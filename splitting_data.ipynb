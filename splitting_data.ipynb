{
 "metadata": {
  "language_info": {
   "codemirror_mode": {
    "name": "ipython",
    "version": 3
   },
   "file_extension": ".py",
   "mimetype": "text/x-python",
   "name": "python",
   "nbconvert_exporter": "python",
   "pygments_lexer": "ipython3",
   "version": "3.8.5-final"
  },
  "orig_nbformat": 2,
  "kernelspec": {
   "name": "python3",
   "display_name": "Python 3"
  }
 },
 "nbformat": 4,
 "nbformat_minor": 2,
 "cells": [
  {
   "cell_type": "code",
   "execution_count": 1,
   "metadata": {},
   "outputs": [
    {
     "output_type": "execute_result",
     "data": {
      "text/plain": [
       "   weight  height  drinks alcohol  healthy\n",
       "0     112     181               0        0\n",
       "1     123     165               1        1\n",
       "2     176     167               1        1\n",
       "3     145     154               1        1\n",
       "4     198     181               0        0\n",
       "5     211     202               1        0\n",
       "6     145     201               1        1\n",
       "7     181     153               1        1\n",
       "8      90     142               0        1\n",
       "9     101     169               1        1"
      ],
      "text/html": "<div>\n<style scoped>\n    .dataframe tbody tr th:only-of-type {\n        vertical-align: middle;\n    }\n\n    .dataframe tbody tr th {\n        vertical-align: top;\n    }\n\n    .dataframe thead th {\n        text-align: right;\n    }\n</style>\n<table border=\"1\" class=\"dataframe\">\n  <thead>\n    <tr style=\"text-align: right;\">\n      <th></th>\n      <th>weight</th>\n      <th>height</th>\n      <th>drinks alcohol</th>\n      <th>healthy</th>\n    </tr>\n  </thead>\n  <tbody>\n    <tr>\n      <th>0</th>\n      <td>112</td>\n      <td>181</td>\n      <td>0</td>\n      <td>0</td>\n    </tr>\n    <tr>\n      <th>1</th>\n      <td>123</td>\n      <td>165</td>\n      <td>1</td>\n      <td>1</td>\n    </tr>\n    <tr>\n      <th>2</th>\n      <td>176</td>\n      <td>167</td>\n      <td>1</td>\n      <td>1</td>\n    </tr>\n    <tr>\n      <th>3</th>\n      <td>145</td>\n      <td>154</td>\n      <td>1</td>\n      <td>1</td>\n    </tr>\n    <tr>\n      <th>4</th>\n      <td>198</td>\n      <td>181</td>\n      <td>0</td>\n      <td>0</td>\n    </tr>\n    <tr>\n      <th>5</th>\n      <td>211</td>\n      <td>202</td>\n      <td>1</td>\n      <td>0</td>\n    </tr>\n    <tr>\n      <th>6</th>\n      <td>145</td>\n      <td>201</td>\n      <td>1</td>\n      <td>1</td>\n    </tr>\n    <tr>\n      <th>7</th>\n      <td>181</td>\n      <td>153</td>\n      <td>1</td>\n      <td>1</td>\n    </tr>\n    <tr>\n      <th>8</th>\n      <td>90</td>\n      <td>142</td>\n      <td>0</td>\n      <td>1</td>\n    </tr>\n    <tr>\n      <th>9</th>\n      <td>101</td>\n      <td>169</td>\n      <td>1</td>\n      <td>1</td>\n    </tr>\n  </tbody>\n</table>\n</div>"
     },
     "metadata": {},
     "execution_count": 1
    }
   ],
   "source": [
    "import pandas as pd\n",
    "import numpy as np\n",
    "client_dictionary = {\n",
    "    'weight': [112, 123, 176, 145, 198, 211, 145,181, 90, 101],\n",
    "    'height': [181, 165, 167, 154, 181, 202, 201,153, 142, 169],\n",
    "    'drinks alcohol': [0, 1, 1, 1, 0, 1, 1, 1, 0,1],\n",
    "    'healthy': [0, 1, 1, 1, 0, 0, 1, 1, 1, 1],\n",
    "}\n",
    "df = pd.DataFrame(client_dictionary)\n",
    "df.head(10)"
   ]
  },
  {
   "cell_type": "code",
   "execution_count": 2,
   "metadata": {},
   "outputs": [
    {
     "output_type": "stream",
     "name": "stdout",
     "text": [
      "   weight  height  drinks alcohol\n0     112     181               0\n1     123     165               1\n2     176     167               1\n3     145     154               1\n4     198     181               0\n5     211     202               1\n6     145     201               1\n7     181     153               1\n8      90     142               0\n9     101     169               1\n0    0\n1    1\n2    1\n3    1\n4    0\n5    0\n6    1\n7    1\n8    1\n9    1\nName: healthy, dtype: int64\n"
     ]
    }
   ],
   "source": [
    "x_data = df[['weight', 'height', 'drinks alcohol']]\n",
    "y_data = df['healthy']\n",
    "print(x_data)\n",
    "print(y_data)"
   ]
  },
  {
   "cell_type": "code",
   "execution_count": 3,
   "metadata": {},
   "outputs": [
    {
     "output_type": "stream",
     "name": "stdout",
     "text": [
      "   weight  height  drinks alcohol\n0     112     181               0\n1     123     165               1\n2     176     167               1\n3     145     154               1\n4     198     181               0\n5     211     202               1\n6     145     201               1\n7     181     153               1\n   weight  height  drinks alcohol\n8      90     142               0\n9     101     169               1\n0    0\n1    1\n2    1\n3    1\n4    0\n5    0\n6    1\n7    1\nName: healthy, dtype: int64\n8    1\n9    1\nName: healthy, dtype: int64\n"
     ]
    }
   ],
   "source": [
    "from sklearn.model_selection import train_test_split\n",
    "x_train, x_test, y_train, y_test = train_test_split(x_data, y_data,test_size = 0.2, shuffle=False)\n",
    "print(x_train)\n",
    "print(x_test)\n",
    "print(y_train)\n",
    "print(y_test)"
   ]
  },
  {
   "cell_type": "code",
   "execution_count": 4,
   "metadata": {},
   "outputs": [
    {
     "output_type": "execute_result",
     "data": {
      "text/plain": [
       "LinearRegression()"
      ]
     },
     "metadata": {},
     "execution_count": 4
    }
   ],
   "source": [
    "from sklearn import linear_model\n",
    "linear_regression_model = linear_model.LinearRegression()\n",
    "linear_regression_model.fit(x_train, y_train)"
   ]
  },
  {
   "cell_type": "code",
   "execution_count": 5,
   "metadata": {},
   "outputs": [],
   "source": [
    "y_pred = linear_regression_model.predict(x_test)"
   ]
  },
  {
   "cell_type": "code",
   "execution_count": null,
   "metadata": {},
   "outputs": [],
   "source": []
  }
 ]
}