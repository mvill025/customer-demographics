{
 "metadata": {
  "language_info": {
   "codemirror_mode": {
    "name": "ipython",
    "version": 3
   },
   "file_extension": ".py",
   "mimetype": "text/x-python",
   "name": "python",
   "nbconvert_exporter": "python",
   "pygments_lexer": "ipython3",
   "version": "3.7.8-final"
  },
  "orig_nbformat": 2,
  "kernelspec": {
   "name": "Python 3.7.8 64-bit ('c1t2': conda)",
   "display_name": "Python 3.7.8 64-bit ('c1t2': conda)",
   "metadata": {
    "interpreter": {
     "hash": "68382639fe8755534147658f6023974261aaaafb40a1e0e47364fe5043e88f2a"
    }
   }
  }
 },
 "nbformat": 4,
 "nbformat_minor": 2,
 "cells": [
  {
   "cell_type": "code",
   "execution_count": 13,
   "metadata": {},
   "outputs": [],
   "source": [
    "# DS Basics\n",
    "import numpy as np\n",
    "import pandas as pd\n",
    "import pandas_profiling\n",
    "import matplotlib.pyplot as plt\n",
    "\n",
    "# SKLearn Stuff\n",
    "from sklearn.model_selection import train_test_split\n",
    "from sklearn.metrics import accuracy_score, classification_report\n",
    "from sklearn.ensemble import RandomForestClassifier, GradientBoostingClassifier\n",
    "from sklearn.tree import DecisionTreeClassifier\n",
    "from sklearn.model_selection import cross_val_score\n",
    "\n",
    "# helpers\n",
    "%matplotlib inline\n"
   ]
  },
  {
   "cell_type": "code",
   "execution_count": 14,
   "metadata": {},
   "outputs": [
    {
     "output_type": "stream",
     "name": "stdout",
     "text": [
      "<class 'pandas.core.frame.DataFrame'>\nRangeIndex: 80000 entries, 0 to 79999\nData columns (total 5 columns):\n #   Column    Non-Null Count  Dtype  \n---  ------    --------------  -----  \n 0   in-store  80000 non-null  int64  \n 1   age       80000 non-null  int64  \n 2   items     80000 non-null  int64  \n 3   amount    80000 non-null  float64\n 4   region    80000 non-null  int64  \ndtypes: float64(1), int64(4)\nmemory usage: 3.1 MB\n"
     ]
    }
   ],
   "source": [
    "data = pd.read_csv('Demographic_Data.csv')\n",
    "data.head()\n",
    "data.info()"
   ]
  },
  {
   "cell_type": "code",
   "execution_count": 87,
   "metadata": {},
   "outputs": [
    {
     "output_type": "stream",
     "name": "stdout",
     "text": [
      "Summary of feature sample\n",
      "   items amount  region\n",
      "0      4      9       2\n",
      "1      2      7       2\n",
      "2      3     50       4\n",
      "3      3     23       3\n",
      "4      4     64       1\n",
      "Summary of y sample\n",
      "0    0.0\n",
      "1    0.0\n",
      "2    0.0\n",
      "3    0.0\n",
      "4    0.0\n",
      "Name: age, dtype: float64\n",
      "Random Forest Classifier 0.791649989153505\n",
      "Decision Tree Classifier 0.792412476809839\n"
     ]
    }
   ],
   "source": [
    "# Features columns = [in-store, age, items, amount, region]\n",
    "X = data.iloc[:,[False,False,True,True,True]]\n",
    "\n",
    "# Features Discretiation\n",
    "amountBins = 100\n",
    "X['amount'] = pd.cut(X['amount'], bins=amountBins, labels=np.arange(amountBins))\n",
    "\n",
    "# dependent variable\n",
    "yVaraiable = 'age'\n",
    "# y = pd.cut(data['age'], bins=3, labels=False)\n",
    "y = data[yVaraiable].div(60).sub(0.4999999).round().mul(60)\n",
    "\n",
    "print('Summary of feature sample')\n",
    "print(X.head())\n",
    "print('Summary of y sample')\n",
    "print(y.head())\n",
    "\n",
    "# slice data\n",
    "x_train, x_test, y_train, y_test = train_test_split(X, y, test_size=.10, random_state = 123)\n",
    "\n",
    "# Modeling (Classification)\n",
    "algos_Class = []\n",
    "algos_Class.append(('Random Forest Classifier', RandomForestClassifier()))\n",
    "algos_Class.append(('Decision Tree Classifier', DecisionTreeClassifier()))\n",
    "\n",
    "results = []\n",
    "names = []\n",
    "\n",
    "for name, algo in algos_Class:\n",
    "    model = algo.fit(x_train, y_train)\n",
    "    result = cross_val_score(model,X,y,cv=3)\n",
    "    names.append(name)\n",
    "    results.append(result)\n",
    "    \n",
    "for i in range(len(names)):\n",
    "    print(names[i],results[i].mean())\n",
    "\n",
    "# Predictions\n",
    "# preds = model.predict(x_test)\n",
    "# print(classification_report(y_test, preds))\n",
    "\n",
    "# print(cross_val_score(model,X,y, cv=3))\n"
   ]
  }
 ]
}